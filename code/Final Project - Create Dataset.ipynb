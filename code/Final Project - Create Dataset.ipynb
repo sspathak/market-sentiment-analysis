{
 "cells": [
  {
   "cell_type": "code",
   "execution_count": 1,
   "metadata": {},
   "outputs": [],
   "source": [
    "import numpy as np\n",
    "import pandas as pd\n",
    "from sklearn.naive_bayes import GaussianNB\n",
    "from sklearn.linear_model import LogisticRegression\n",
    "import matplotlib.pyplot as plt\n",
    "from datetime import datetime\n",
    "import os\n",
    "import re\n",
    "from sklearn.feature_extraction.text import CountVectorizer\n",
    "from IPython.display import display\n",
    "from sklearn.model_selection import train_test_split\n",
    "from sklearn.naive_bayes import GaussianNB\n",
    "from sklearn.svm import SVC\n",
    "from sklearn.linear_model import Ridge\n",
    "from sklearn.linear_model import Lasso\n",
    "from sklearn.model_selection import ParameterGrid\n",
    "from sklearn.metrics import f1_score, accuracy_score, roc_auc_score, precision_score, recall_score\n",
    "%matplotlib inline\n",
    "\n",
    "from collections import defaultdict\n",
    "stop_words = frozenset(\n",
    "    [\"is\", \"are\", \"you\", \"i\", \"me\", \"my\", \"the\", \"a\", \"an\", \"and\", \"to\", \"his\", \"her\", \"that\", \"they\", \"on\", \"it\", \"was\", \"if\", \"be\", \"in\", \"so\", \"with\", \"\", \"s\", \"of\", \"for\", \"its\", \"at\", \"their\"]\n",
    ")\n"
   ]
  },
  {
   "cell_type": "code",
   "execution_count": 13,
   "metadata": {},
   "outputs": [],
   "source": [
    "stock_price = pd.read_csv(\"../dataset/stock_price_data/Pfizer_data.csv\")\n",
    "stock_price['Date'] = pd.to_datetime(stock_price['Date'], format = '%Y-%m-%d')"
   ]
  },
  {
   "cell_type": "code",
   "execution_count": 14,
   "metadata": {},
   "outputs": [
    {
     "data": {
      "text/html": [
       "<div>\n",
       "<style scoped>\n",
       "    .dataframe tbody tr th:only-of-type {\n",
       "        vertical-align: middle;\n",
       "    }\n",
       "\n",
       "    .dataframe tbody tr th {\n",
       "        vertical-align: top;\n",
       "    }\n",
       "\n",
       "    .dataframe thead th {\n",
       "        text-align: right;\n",
       "    }\n",
       "</style>\n",
       "<table border=\"1\" class=\"dataframe\">\n",
       "  <thead>\n",
       "    <tr style=\"text-align: right;\">\n",
       "      <th></th>\n",
       "      <th>Date</th>\n",
       "      <th>Open</th>\n",
       "      <th>High</th>\n",
       "      <th>Low</th>\n",
       "      <th>Close</th>\n",
       "      <th>Adj Close</th>\n",
       "      <th>Volume</th>\n",
       "    </tr>\n",
       "  </thead>\n",
       "  <tbody>\n",
       "    <tr>\n",
       "      <td>0</td>\n",
       "      <td>2019-10-01</td>\n",
       "      <td>35.930000</td>\n",
       "      <td>36.020000</td>\n",
       "      <td>35.430000</td>\n",
       "      <td>35.430000</td>\n",
       "      <td>34.060383</td>\n",
       "      <td>20885200</td>\n",
       "    </tr>\n",
       "    <tr>\n",
       "      <td>1</td>\n",
       "      <td>2019-10-02</td>\n",
       "      <td>35.259998</td>\n",
       "      <td>35.270000</td>\n",
       "      <td>34.660000</td>\n",
       "      <td>34.700001</td>\n",
       "      <td>33.358604</td>\n",
       "      <td>21307400</td>\n",
       "    </tr>\n",
       "    <tr>\n",
       "      <td>2</td>\n",
       "      <td>2019-10-03</td>\n",
       "      <td>34.709999</td>\n",
       "      <td>35.470001</td>\n",
       "      <td>34.599998</td>\n",
       "      <td>35.450001</td>\n",
       "      <td>34.079609</td>\n",
       "      <td>20945100</td>\n",
       "    </tr>\n",
       "    <tr>\n",
       "      <td>3</td>\n",
       "      <td>2019-10-04</td>\n",
       "      <td>35.490002</td>\n",
       "      <td>35.980000</td>\n",
       "      <td>35.450001</td>\n",
       "      <td>35.930000</td>\n",
       "      <td>34.541054</td>\n",
       "      <td>17139800</td>\n",
       "    </tr>\n",
       "    <tr>\n",
       "      <td>4</td>\n",
       "      <td>2019-10-07</td>\n",
       "      <td>35.820000</td>\n",
       "      <td>36.259998</td>\n",
       "      <td>35.799999</td>\n",
       "      <td>35.830002</td>\n",
       "      <td>34.444920</td>\n",
       "      <td>11156900</td>\n",
       "    </tr>\n",
       "  </tbody>\n",
       "</table>\n",
       "</div>"
      ],
      "text/plain": [
       "        Date       Open       High        Low      Close  Adj Close    Volume\n",
       "0 2019-10-01  35.930000  36.020000  35.430000  35.430000  34.060383  20885200\n",
       "1 2019-10-02  35.259998  35.270000  34.660000  34.700001  33.358604  21307400\n",
       "2 2019-10-03  34.709999  35.470001  34.599998  35.450001  34.079609  20945100\n",
       "3 2019-10-04  35.490002  35.980000  35.450001  35.930000  34.541054  17139800\n",
       "4 2019-10-07  35.820000  36.259998  35.799999  35.830002  34.444920  11156900"
      ]
     },
     "execution_count": 14,
     "metadata": {},
     "output_type": "execute_result"
    }
   ],
   "source": [
    "stock_price.head()"
   ]
  },
  {
   "cell_type": "code",
   "execution_count": 33,
   "metadata": {},
   "outputs": [
    {
     "data": {
      "text/plain": [
       "0   2019-10-01\n",
       "1   2019-10-02\n",
       "2   2019-10-03\n",
       "3   2019-10-04\n",
       "4   2019-10-07\n",
       "Name: Date, dtype: datetime64[ns]"
      ]
     },
     "execution_count": 33,
     "metadata": {},
     "output_type": "execute_result"
    }
   ],
   "source": [
    "pfizer_close = stock_price['Close']\n",
    "n = 7\n",
    "moving_avg = [sum(pfizer_close[i-n:i])/n for i in range(n, len(pfizer_close))]\n",
    "moving_stdev = (pfizer_close[n:] - moving_avg)**2\n",
    "\n",
    "m = 3\n",
    "moving_stdev_smooth = [sum(moving_stdev[i-m:i])/m for i in range(m,len(moving_stdev))]\n",
    "\n",
    "dates = pd.to_datetime(stock_price[\"Date\"], format = '%Y-%m-%d')\n",
    "dates.head()\n"
   ]
  },
  {
   "cell_type": "code",
   "execution_count": 34,
   "metadata": {
    "scrolled": true
   },
   "outputs": [
    {
     "data": {
      "image/png": "[encoded data removed]",
      "text/plain": [
       "<Figure size 1080x720 with 1 Axes>"
      ]
     },
     "metadata": {
      "needs_background": "light"
     },
     "output_type": "display_data"
    }
   ],
   "source": [
    "plt.plot(dates[n+m:], pfizer_close[n+m:], label=\"Closing Price, C\")\n",
    "plt.plot(dates[n+m:], moving_avg[m:], label=f\"Moving Average ({n}-day), A\")\n",
    "plt.plot(dates[n+m:], moving_stdev[m:], label=\"Moving Standard Deviation, (C - A)^2\")\n",
    "plt.plot(dates[n+m:], moving_stdev_smooth, label=f\"Smooth Standard Deviation ({m}-day)\")\n",
    "plt.plot(dates[n+m:], [1]*(len(dates)-m-n), label=\"Threshold, y = 1\")\n",
    "plt.title(\"Pfizer stock\")\n",
    "plt.legend()\n",
    "plt.xlabel(\"Day\")\n",
    "plt.ylabel(\"Price\")\n",
    "plt.rcParams[\"figure.figsize\"]=(15,10) # (width, height)\n",
    "plt.show()\n"
   ]
  },
  {
   "cell_type": "code",
   "execution_count": null,
   "metadata": {},
   "outputs": [],
   "source": [
    "\n"
   ]
  },
  {
   "cell_type": "code",
   "execution_count": 60,
   "metadata": {},
   "outputs": [
    {
     "data": {
      "text/html": [
       "<div>\n",
       "<style scoped>\n",
       "    .dataframe tbody tr th:only-of-type {\n",
       "        vertical-align: middle;\n",
       "    }\n",
       "\n",
       "    .dataframe tbody tr th {\n",
       "        vertical-align: top;\n",
       "    }\n",
       "\n",
       "    .dataframe thead th {\n",
       "        text-align: right;\n",
       "    }\n",
       "</style>\n",
       "<table border=\"1\" class=\"dataframe\">\n",
       "  <thead>\n",
       "    <tr style=\"text-align: right;\">\n",
       "      <th></th>\n",
       "      <th>Date</th>\n",
       "      <th>Open</th>\n",
       "      <th>High</th>\n",
       "      <th>Low</th>\n",
       "      <th>Close</th>\n",
       "      <th>Adj Close</th>\n",
       "      <th>Volume</th>\n",
       "    </tr>\n",
       "  </thead>\n",
       "  <tbody>\n",
       "    <tr>\n",
       "      <td>0</td>\n",
       "      <td>2019-10-01</td>\n",
       "      <td>48.299999</td>\n",
       "      <td>49.189999</td>\n",
       "      <td>47.826000</td>\n",
       "      <td>48.938000</td>\n",
       "      <td>48.938000</td>\n",
       "      <td>30813000</td>\n",
       "    </tr>\n",
       "    <tr>\n",
       "      <td>1</td>\n",
       "      <td>2019-10-02</td>\n",
       "      <td>48.658001</td>\n",
       "      <td>48.930000</td>\n",
       "      <td>47.886002</td>\n",
       "      <td>48.625999</td>\n",
       "      <td>48.625999</td>\n",
       "      <td>28157000</td>\n",
       "    </tr>\n",
       "    <tr>\n",
       "      <td>2</td>\n",
       "      <td>2019-10-03</td>\n",
       "      <td>46.372002</td>\n",
       "      <td>46.896000</td>\n",
       "      <td>44.855999</td>\n",
       "      <td>46.605999</td>\n",
       "      <td>46.605999</td>\n",
       "      <td>75422500</td>\n",
       "    </tr>\n",
       "    <tr>\n",
       "      <td>3</td>\n",
       "      <td>2019-10-04</td>\n",
       "      <td>46.321999</td>\n",
       "      <td>46.956001</td>\n",
       "      <td>45.613998</td>\n",
       "      <td>46.285999</td>\n",
       "      <td>46.285999</td>\n",
       "      <td>39975000</td>\n",
       "    </tr>\n",
       "    <tr>\n",
       "      <td>4</td>\n",
       "      <td>2019-10-07</td>\n",
       "      <td>45.959999</td>\n",
       "      <td>47.712002</td>\n",
       "      <td>45.709999</td>\n",
       "      <td>47.543999</td>\n",
       "      <td>47.543999</td>\n",
       "      <td>40321000</td>\n",
       "    </tr>\n",
       "  </tbody>\n",
       "</table>\n",
       "</div>"
      ],
      "text/plain": [
       "        Date       Open       High        Low      Close  Adj Close    Volume\n",
       "0 2019-10-01  48.299999  49.189999  47.826000  48.938000  48.938000  30813000\n",
       "1 2019-10-02  48.658001  48.930000  47.886002  48.625999  48.625999  28157000\n",
       "2 2019-10-03  46.372002  46.896000  44.855999  46.605999  46.605999  75422500\n",
       "3 2019-10-04  46.321999  46.956001  45.613998  46.285999  46.285999  39975000\n",
       "4 2019-10-07  45.959999  47.712002  45.709999  47.543999  47.543999  40321000"
      ]
     },
     "metadata": {},
     "output_type": "display_data"
    },
    {
     "data": {
      "text/plain": [
       "0   2019-10-01\n",
       "1   2019-10-02\n",
       "2   2019-10-03\n",
       "3   2019-10-04\n",
       "4   2019-10-07\n",
       "Name: Date, dtype: datetime64[ns]"
      ]
     },
     "metadata": {},
     "output_type": "display_data"
    },
    {
     "data": {
      "image/png": "[encoded data removed]",
      "text/plain": [
       "<Figure size 1080x720 with 1 Axes>"
      ]
     },
     "metadata": {
      "needs_background": "light"
     },
     "output_type": "display_data"
    }
   ],
   "source": [
    "stock_price_tsla = pd.read_csv(\"../dataset/stock_price_data/TSLA.csv\")\n",
    "stock_price_tsla['Date'] = pd.to_datetime(stock_price_tsla['Date'], format = '%Y-%m-%d')\n",
    "display(stock_price_tsla.head())\n",
    "tsla_close = stock_price_tsla['Close']\n",
    "n = 7\n",
    "moving_avg_tsla = [sum(tsla_close[i-n:i])/n for i in range(n, len(tsla_close))]\n",
    "moving_stdev_tsla = (tsla_close[n:] - moving_avg_tsla)**2\n",
    "\n",
    "m = 3\n",
    "moving_stdev_smooth_tsla = [sum(moving_stdev_tsla[i-m:i])/m for i in range(m,len(moving_stdev_tsla))]\n",
    "\n",
    "dates_tsla = pd.to_datetime(stock_price_tsla[\"Date\"], format = '%Y-%m-%d')\n",
    "display(dates_tsla.head())\n",
    "plt.plot(dates_tsla[n+m:], tsla_close[n+m:], label=\"Closing Price, C\")\n",
    "plt.plot(dates_tsla[n+m:], moving_avg_tsla[m:], label=f\"Moving Average ({n}-day), A\")\n",
    "# plt.plot(dates_tsla[n+m:], moving_stdev_tsla[m:], label=\"Moving Standard Deviation, (C - A)^2\")\n",
    "# plt.plot(dates_tsla[n+m:], moving_stdev_smooth_tsla, label=f\"Smooth Standard Deviation ({m}-day)\")\n",
    "# plt.plot(dates_tsla[n+m:], [500]*(len(dates_tsla)-m-n), label=\"Threshold, y = 1000\")\n",
    "plt.title(\"Tesla stock\")\n",
    "plt.legend()\n",
    "plt.xlabel(\"Day\")\n",
    "plt.ylabel(\"Price\")\n",
    "plt.rcParams[\"figure.figsize\"]=(15,10) # (width, height)\n",
    "plt.show()\n"
   ]
  },
  {
   "cell_type": "code",
   "execution_count": null,
   "metadata": {},
   "outputs": [],
   "source": []
  },
  {
   "cell_type": "code",
   "execution_count": 55,
   "metadata": {},
   "outputs": [],
   "source": [
    "rgx = r\"\\b[A-Za-z]*(?![\\d]+)[A-Za-z]*\\b\"\n",
    "regex_splitter = re.compile(rgx)\n",
    "\n",
    "def get_company_vicinity(text, name):\n",
    "    # for each occurance of pfizer, select ± 30 words and ignore the rest\n",
    "    split_text = np.array(regex_splitter.findall(text))\n",
    "    pf_index = np.where(split_text == name)\n",
    "    ret_arr = []\n",
    "    for idx in pf_index[0]:\n",
    "        words30 = split_text[idx:idx+31]\n",
    "        if len(words30) > 1:\n",
    "            ret_arr.append(words30)\n",
    "    return ret_arr\n",
    "\n",
    "def load_text(p, name):\n",
    "    doc_list = []\n",
    "    for f in os.listdir(p):\n",
    "        if f[0] == '.':\n",
    "            continue\n",
    "        date = pd.Timestamp((f.split(','))[0])\n",
    "        with open(os.path.join(p,f),'r') as doc:\n",
    "            text_frag_array = get_company_vicinity(doc.read(), name)\n",
    "            for tx in text_frag_array:\n",
    "                \n",
    "                content = (date, \" \".join(tx))\n",
    "                doc_list.append(content)\n",
    "    return np.array(doc_list)\n",
    "\n",
    "def fix_weekends(txt_df):\n",
    "#     txt_df['Dates'] = pd.to_datetime(txt_df.Dates)\n",
    "    dts = txt_df['Dates'][:]\n",
    "    for date in range(len(dts)):\n",
    "        if (dts[date].dayofweek - 4) > 0:\n",
    "            dts[date] = dts[date] + (pd.offsets.Day(7 - (dts[date].dayofweek)))\n",
    "    txt_df['Dates'] = dts\n",
    "    \n",
    "def load_volatility(p, moving_stdev_smooth_, volatility_threshold=1):\n",
    "    labels = [(1,dates[i+m+n]) if j > volatility_threshold else (0,dates[i+m+n]) for i,j in enumerate(moving_stdev_smooth_)]\n",
    "    return np.array(labels)\n",
    "\n",
    "def load_data(text_path, price_path,name,moving_stdev_smooth_, volatility_threshold=1):\n",
    "    text = load_text(text_path, name)\n",
    "    text_df = pd.DataFrame({'Dates':pd.to_datetime(text[:,0]),'Text':text[:,1]})\n",
    "    fix_weekends(text_df)\n",
    "    volatility = load_volatility(price_path, moving_stdev_smooth_, volatility_threshold)\n",
    "    vol_df = pd.DataFrame({'Dates':pd.to_datetime(volatility[:,1]),'Volatility':volatility[:,0]})\n",
    "    return text_df.merge(vol_df, on='Dates', how='left')\n",
    "        \n",
    "    "
   ]
  },
  {
   "cell_type": "code",
   "execution_count": 7,
   "metadata": {},
   "outputs": [
    {
     "data": {
      "text/html": [
       "<div>\n",
       "<style scoped>\n",
       "    .dataframe tbody tr th:only-of-type {\n",
       "        vertical-align: middle;\n",
       "    }\n",
       "\n",
       "    .dataframe tbody tr th {\n",
       "        vertical-align: top;\n",
       "    }\n",
       "\n",
       "    .dataframe thead th {\n",
       "        text-align: right;\n",
       "    }\n",
       "</style>\n",
       "<table border=\"1\" class=\"dataframe\">\n",
       "  <thead>\n",
       "    <tr style=\"text-align: right;\">\n",
       "      <th></th>\n",
       "      <th>Dates</th>\n",
       "      <th>Text</th>\n",
       "      <th>Volatility</th>\n",
       "    </tr>\n",
       "  </thead>\n",
       "  <tbody>\n",
       "    <tr>\n",
       "      <td>0</td>\n",
       "      <td>2019-11-08</td>\n",
       "      <td>Pfizer  drug  fails  to  meet  endpoints  in  ...</td>\n",
       "      <td>0</td>\n",
       "    </tr>\n",
       "    <tr>\n",
       "      <td>1</td>\n",
       "      <td>2019-11-08</td>\n",
       "      <td>Pfizer  PFE    said  Friday  that  a  late  st...</td>\n",
       "      <td>0</td>\n",
       "    </tr>\n",
       "    <tr>\n",
       "      <td>2</td>\n",
       "      <td>2019-11-08</td>\n",
       "      <td>Pfizer  formed  an  alliance  in   to  develop...</td>\n",
       "      <td>0</td>\n",
       "    </tr>\n",
       "    <tr>\n",
       "      <td>3</td>\n",
       "      <td>2019-11-08</td>\n",
       "      <td>Pfizer  have  fallen    year  to  date  while ...</td>\n",
       "      <td>0</td>\n",
       "    </tr>\n",
       "    <tr>\n",
       "      <td>4</td>\n",
       "      <td>2020-08-26</td>\n",
       "      <td>Pfizer  PFE    A   move  in  any  of  the  ind...</td>\n",
       "      <td>0</td>\n",
       "    </tr>\n",
       "    <tr>\n",
       "      <td>...</td>\n",
       "      <td>...</td>\n",
       "      <td>...</td>\n",
       "      <td>...</td>\n",
       "    </tr>\n",
       "    <tr>\n",
       "      <td>1150</td>\n",
       "      <td>2020-08-12</td>\n",
       "      <td>Pfizer  and  BioNTech  would  price  its  vacc...</td>\n",
       "      <td>0</td>\n",
       "    </tr>\n",
       "    <tr>\n",
       "      <td>1151</td>\n",
       "      <td>2020-05-06</td>\n",
       "      <td>Pfizer  PFE    Microsoft  MSFT    and  Walt  D...</td>\n",
       "      <td>0</td>\n",
       "    </tr>\n",
       "    <tr>\n",
       "      <td>1152</td>\n",
       "      <td>2020-07-20</td>\n",
       "      <td>Pfizer  BioNTech  COVID   vaccine  candidate  ...</td>\n",
       "      <td>1</td>\n",
       "    </tr>\n",
       "    <tr>\n",
       "      <td>1153</td>\n",
       "      <td>2020-07-22</td>\n",
       "      <td>Pfizer  stock  s  implied  premarket  price  g...</td>\n",
       "      <td>1</td>\n",
       "    </tr>\n",
       "    <tr>\n",
       "      <td>1154</td>\n",
       "      <td>2020-07-22</td>\n",
       "      <td>Pfizer  s  stock  surges    to  pace  the  Dow...</td>\n",
       "      <td>1</td>\n",
       "    </tr>\n",
       "  </tbody>\n",
       "</table>\n",
       "<p>1155 rows × 3 columns</p>\n",
       "</div>"
      ],
      "text/plain": [
       "          Dates                                               Text Volatility\n",
       "0    2019-11-08  Pfizer  drug  fails  to  meet  endpoints  in  ...          0\n",
       "1    2019-11-08  Pfizer  PFE    said  Friday  that  a  late  st...          0\n",
       "2    2019-11-08  Pfizer  formed  an  alliance  in   to  develop...          0\n",
       "3    2019-11-08  Pfizer  have  fallen    year  to  date  while ...          0\n",
       "4    2020-08-26  Pfizer  PFE    A   move  in  any  of  the  ind...          0\n",
       "...         ...                                                ...        ...\n",
       "1150 2020-08-12  Pfizer  and  BioNTech  would  price  its  vacc...          0\n",
       "1151 2020-05-06  Pfizer  PFE    Microsoft  MSFT    and  Walt  D...          0\n",
       "1152 2020-07-20  Pfizer  BioNTech  COVID   vaccine  candidate  ...          1\n",
       "1153 2020-07-22  Pfizer  stock  s  implied  premarket  price  g...          1\n",
       "1154 2020-07-22  Pfizer  s  stock  surges    to  pace  the  Dow...          1\n",
       "\n",
       "[1155 rows x 3 columns]"
      ]
     },
     "metadata": {},
     "output_type": "display_data"
    },
    {
     "name": "stdout",
     "output_type": "stream",
     "text": [
      "word_count = 34607\n"
     ]
    }
   ],
   "source": [
    "\n",
    "pfizer_text_path = '../dataset/marketwatch_articles/Pfizer'\n",
    "text = load_text(pfizer_text_path, 'Pfizer')\n",
    "\n",
    "pfizer_price_path = '../dataset/stock_price_data/Pfizer_data.csv'\n",
    "data = load_data(pfizer_text_path, pfizer_price_path, 'Pfizer', moving_stdev_smooth,1)\n",
    "\n",
    "display(data)\n",
    "dat = data[data['Volatility'].notna()]\n",
    "X = dat['Text']\n",
    "y = dat['Volatility']\n",
    "print(\"word_count = \" + str(sum([len(i.split(\" \"))for i in X])))\n",
    "y=y.astype('int')"
   ]
  },
  {
   "cell_type": "code",
   "execution_count": 8,
   "metadata": {},
   "outputs": [
    {
     "name": "stdout",
     "output_type": "stream",
     "text": [
      "<class 'numpy.int64'>\n",
      "2020-08-19T00:00:00.000000000\n"
     ]
    }
   ],
   "source": [
    "print(type(y.values[207]))\n",
    "print(data.Dates.values[207])\n",
    "data.to_csv('pfizer_processed.csv')"
   ]
  },
  {
   "cell_type": "code",
   "execution_count": 57,
   "metadata": {},
   "outputs": [
    {
     "name": "stderr",
     "output_type": "stream",
     "text": [
      "/Users/suraj/opt/anaconda3/lib/python3.7/site-packages/ipykernel_launcher.py:7: FutureWarning: elementwise comparison failed; returning scalar instead, but in the future will perform elementwise comparison\n",
      "  import sys\n"
     ]
    },
    {
     "data": {
      "text/html": [
       "<div>\n",
       "<style scoped>\n",
       "    .dataframe tbody tr th:only-of-type {\n",
       "        vertical-align: middle;\n",
       "    }\n",
       "\n",
       "    .dataframe tbody tr th {\n",
       "        vertical-align: top;\n",
       "    }\n",
       "\n",
       "    .dataframe thead th {\n",
       "        text-align: right;\n",
       "    }\n",
       "</style>\n",
       "<table border=\"1\" class=\"dataframe\">\n",
       "  <thead>\n",
       "    <tr style=\"text-align: right;\">\n",
       "      <th></th>\n",
       "      <th>Dates</th>\n",
       "      <th>Text</th>\n",
       "      <th>Volatility</th>\n",
       "    </tr>\n",
       "  </thead>\n",
       "  <tbody>\n",
       "    <tr>\n",
       "      <td>0</td>\n",
       "      <td>2019-11-08</td>\n",
       "      <td>Tesla  TSLA    and  traditional  carmakers  Th...</td>\n",
       "      <td>0</td>\n",
       "    </tr>\n",
       "    <tr>\n",
       "      <td>1</td>\n",
       "      <td>2019-11-08</td>\n",
       "      <td>Tesla  s  Model   is  an  iPhone   Cars  last ...</td>\n",
       "      <td>0</td>\n",
       "    </tr>\n",
       "    <tr>\n",
       "      <td>2</td>\n",
       "      <td>2019-11-08</td>\n",
       "      <td>Tesla  broke  out  of  the  domain  of  existi...</td>\n",
       "      <td>0</td>\n",
       "    </tr>\n",
       "    <tr>\n",
       "      <td>3</td>\n",
       "      <td>2019-11-08</td>\n",
       "      <td>Tesla  created  the  EV  industry  it  had  th...</td>\n",
       "      <td>0</td>\n",
       "    </tr>\n",
       "    <tr>\n",
       "      <td>4</td>\n",
       "      <td>2019-11-08</td>\n",
       "      <td>Tesla  to  build  EVs  that  are  free  from  ...</td>\n",
       "      <td>0</td>\n",
       "    </tr>\n",
       "    <tr>\n",
       "      <td>...</td>\n",
       "      <td>...</td>\n",
       "      <td>...</td>\n",
       "      <td>...</td>\n",
       "    </tr>\n",
       "    <tr>\n",
       "      <td>2072</td>\n",
       "      <td>2019-10-01</td>\n",
       "      <td>Tesla  as  senior  machine  learning  scientis...</td>\n",
       "      <td>NaN</td>\n",
       "    </tr>\n",
       "    <tr>\n",
       "      <td>2073</td>\n",
       "      <td>2019-10-01</td>\n",
       "      <td>Tesla  shares  approached  the  end  of  the  ...</td>\n",
       "      <td>NaN</td>\n",
       "    </tr>\n",
       "    <tr>\n",
       "      <td>2074</td>\n",
       "      <td>2020-03-09</td>\n",
       "      <td>Tesla  Inc  TSLA    shares  were  also  lower ...</td>\n",
       "      <td>0</td>\n",
       "    </tr>\n",
       "    <tr>\n",
       "      <td>2075</td>\n",
       "      <td>2020-03-03</td>\n",
       "      <td>Tesla  Inc  TSLA    Honda  Motor  Co  HMC    a...</td>\n",
       "      <td>1</td>\n",
       "    </tr>\n",
       "    <tr>\n",
       "      <td>2076</td>\n",
       "      <td>2019-12-27</td>\n",
       "      <td>Tesla  Inc  TSLA  finished  slightly  lower  d...</td>\n",
       "      <td>0</td>\n",
       "    </tr>\n",
       "  </tbody>\n",
       "</table>\n",
       "<p>2077 rows × 3 columns</p>\n",
       "</div>"
      ],
      "text/plain": [
       "          Dates                                               Text Volatility\n",
       "0    2019-11-08  Tesla  TSLA    and  traditional  carmakers  Th...          0\n",
       "1    2019-11-08  Tesla  s  Model   is  an  iPhone   Cars  last ...          0\n",
       "2    2019-11-08  Tesla  broke  out  of  the  domain  of  existi...          0\n",
       "3    2019-11-08  Tesla  created  the  EV  industry  it  had  th...          0\n",
       "4    2019-11-08  Tesla  to  build  EVs  that  are  free  from  ...          0\n",
       "...         ...                                                ...        ...\n",
       "2072 2019-10-01  Tesla  as  senior  machine  learning  scientis...        NaN\n",
       "2073 2019-10-01  Tesla  shares  approached  the  end  of  the  ...        NaN\n",
       "2074 2020-03-09  Tesla  Inc  TSLA    shares  were  also  lower ...          0\n",
       "2075 2020-03-03  Tesla  Inc  TSLA    Honda  Motor  Co  HMC    a...          1\n",
       "2076 2019-12-27  Tesla  Inc  TSLA  finished  slightly  lower  d...          0\n",
       "\n",
       "[2077 rows x 3 columns]"
      ]
     },
     "metadata": {},
     "output_type": "display_data"
    },
    {
     "name": "stdout",
     "output_type": "stream",
     "text": [
      "361\n",
      "word_count = 60466\n"
     ]
    }
   ],
   "source": [
    "tesla_text_path = '../dataset/Tesla_data'\n",
    "text = load_text(tesla_text_path, 'Tesla')\n",
    "\n",
    "tesla_price_path = '../dataset/stock_price_data/TSLA.csv'\n",
    "data = load_data(tesla_text_path, tesla_price_path, 'Tesla', moving_stdev_smooth_tsla, 500)\n",
    "\n",
    "display(data)\n",
    "dat = data[data['Volatility'].notna()]\n",
    "X = dat['Text']\n",
    "y = dat['Volatility']\n",
    "print(sum(y))\n",
    "print(\"word_count = \" + str(sum([len(i.split(\" \"))for i in X])))\n",
    "y=y.astype('int')"
   ]
  },
  {
   "cell_type": "code",
   "execution_count": 58,
   "metadata": {},
   "outputs": [
    {
     "name": "stdout",
     "output_type": "stream",
     "text": [
      "<class 'numpy.int64'>\n",
      "2020-02-06T00:00:00.000000000\n"
     ]
    }
   ],
   "source": [
    "print(type(y.values[207]))\n",
    "print(data.Dates.values[207])\n",
    "data.to_csv('tesla_processed.csv')"
   ]
  },
  {
   "cell_type": "code",
   "execution_count": null,
   "metadata": {},
   "outputs": [],
   "source": []
  },
  {
   "cell_type": "code",
   "execution_count": 11,
   "metadata": {},
   "outputs": [
    {
     "name": "stdout",
     "output_type": "stream",
     "text": [
      "         Dates                                               Text Volatility\n",
      "541 2019-12-25  Pfizer  Stock  s  Dismal   Could  Be  a  Prelu...        NaN\n",
      "542 2019-12-25  Pfizer  s  had  a  tough  year  on  the  marke...        NaN\n",
      "543 2019-12-25  Pfizer  ticker  PFE  fell    It  ends  the  ye...        NaN\n",
      "544 2019-12-25  Pfizer  s  new  growth  strategy  looks  promi...        NaN\n",
      "545 2019-12-25  Pfizer  s  way  next  year  And  in  another  ...        NaN\n",
      "546 2019-12-25  Pfizer  s  year  started  with  the  ascension...        NaN\n",
      "547 2019-12-25  Pfizer  share  prices  collapsed  in  late  Ju...        NaN\n",
      "548 2019-12-25  Pfizer  hits  like  Viagra  primarily  in  eme...        NaN\n",
      "549 2019-12-25  Pfizer  said  it  would  create  a  new  joint...        NaN\n"
     ]
    }
   ],
   "source": [
    "print(data.iloc[541:550])"
   ]
  },
  {
   "cell_type": "code",
   "execution_count": 9,
   "metadata": {},
   "outputs": [],
   "source": [
    "vectorizer = CountVectorizer(token_pattern=rgx, stop_words=stop_words)   #r\"\\b(?![\\d])\\w{2,}\")\n",
    "X_train, X_test, y_train, y_test = train_test_split(X, y, test_size=0.33, random_state=42)"
   ]
  },
  {
   "cell_type": "code",
   "execution_count": 10,
   "metadata": {},
   "outputs": [],
   "source": [
    "# print(f\"train len = {len(y_train)}, test len = {len(y_test)}\")\n",
    "# print(y_train.values)"
   ]
  },
  {
   "cell_type": "code",
   "execution_count": 11,
   "metadata": {},
   "outputs": [],
   "source": [
    "vectorizer.fit(X_train)\n",
    "X_train_vec = vectorizer.transform(X_train)"
   ]
  },
  {
   "cell_type": "code",
   "execution_count": 12,
   "metadata": {},
   "outputs": [],
   "source": [
    "def get_model_scores(title, model_class, X_train, y_train, X_test, y_test, params):\n",
    "    mdl_arr = []\n",
    "    for p in params:\n",
    "        model = model_class()\n",
    "        model.set_params(**p)\n",
    "        model.fit(X_train_vec, y_train)\n",
    "        y_pred = model.predict(vectorizer.transform(X_test))\n",
    "        y_pred = [1 if i > 0.5 else 0 for i in y_pred]\n",
    "#         print((y_pred))\n",
    "        print(\"model = \" + title)\n",
    "        print(f\"\\t\\tParams = {p}\")\n",
    "        print(f\"\\tf1 score = {f1_score(y_test, y_pred, average='weighted')}\")\n",
    "        print(f\"\\tauc score = {roc_auc_score(y_test, y_pred)}\")\n",
    "        print(f\"\\tprecision score = {precision_score(y_test, y_pred)}\")\n",
    "        print(f\"\\trecall score = {recall_score(y_test, y_pred)}\")\n",
    "        mdl_arr.append(model)\n",
    "    return mdl_arr\n",
    "\n"
   ]
  },
  {
   "cell_type": "code",
   "execution_count": 13,
   "metadata": {},
   "outputs": [
    {
     "name": "stdout",
     "output_type": "stream",
     "text": [
      "[0 0 1 0 1 0 0 0 1 0 1 1 0 0 0 1 1 0 0 0 0 0 0 1 1 0 1 0 0 0 0 0 0 1 0 0 1\n",
      " 1 1 0 0 1 1 0 0 0 0 0 1 0 0 0 1 0 0 0 0 0 1 1 0 0 0 1 1 0 1 0 0 1 0 0 1 1\n",
      " 0 1 1 0 0 1 0 0 0 0 0 0 1 0 0 1 1 0 1 0 0 1 0 1 0 0 1 0 0 0 0 0 1 0 0 1 0\n",
      " 1 0 1 0 1 0 0 1 0 0 0 1 1 0 0 1 1 0 1 0 1 0 0 0 1 1 1 0 0 0 0 0 0 1 0 0 0\n",
      " 1 1 1 0 1 0 0 0 1 1 1 0 1 1 1 1 0 1 1 1 1 0 0 0 0 1 0 0 0 0 1 0 0 0 0 0 0\n",
      " 1 0 0 1 0 1 0 0 0 0 0 0 0 0 0 0 0 0 1 0 0 0 0 0 0 1 0 0 0 0 0 0 0 1 1 1 0\n",
      " 1 1 1 0 1 0 1 1 1 0 1 0 0 0 1 0 1 0 0 0 1 0 0 0 1 0 0 0 1 0 0 0 1 0 0 0 1\n",
      " 1 1 0 1 0 0 0 1 0 0 1 0 0 1 1 1 1 0 0 0 0 0 1 0 1 0 1 0 1 1 0 1 0 0 0 1 0\n",
      " 0 0 0 1 0 0 1 0 0 0 0 0 1 0 0 0 1 0 0 1 0 0 0 1 0 0 1 0 0 0 0 1 0 0 1 1 1\n",
      " 0 1 0 1 1 1 1 1 0 0 0 0 0 1 0 1 0 0 0 1 1 1 1 0 0 0 1 0 0 1 0 1 0 1 0 0 1\n",
      " 0 0 0 0 0]\n",
      "model = LogisticRegression\n",
      "\t\tParams = {'penalty': 'l2', 'solver': 'liblinear'}\n",
      "\tf1 score = 0.6635228534049439\n",
      "\tauc score = 0.6216927147428009\n",
      "\tprecision score = 0.5757575757575758\n",
      "\trecall score = 0.41911764705882354\n",
      "model = Lasso Regression\n",
      "\t\tParams = {'alpha': 0.001, 'max_iter': 100000}\n",
      "\tf1 score = 0.6552975447357471\n",
      "\tauc score = 0.6095249815407335\n",
      "\tprecision score = 0.6\n",
      "\trecall score = 0.35294117647058826\n",
      "model = Lasso Regression\n",
      "\t\tParams = {'alpha': 0.01, 'max_iter': 100000}\n",
      "\tf1 score = 0.5022688465248092\n",
      "\tauc score = 0.5036764705882353\n",
      "\tprecision score = 1.0\n",
      "\trecall score = 0.007352941176470588\n",
      "model = MultinomialNB\n",
      "\t\tParams = {'alpha': 0}\n",
      "\tf1 score = 0.6735070758858945\n",
      "\tauc score = 0.6407057592911641\n",
      "\tprecision score = 0.5609756097560976\n",
      "\trecall score = 0.5073529411764706\n",
      "model = MultinomialNB\n",
      "\t\tParams = {'alpha': 0.001}\n",
      "\tf1 score = 0.6735070758858945\n",
      "\tauc score = 0.6407057592911641\n",
      "\tprecision score = 0.5609756097560976\n",
      "\trecall score = 0.5073529411764706\n",
      "model = MultinomialNB\n",
      "\t\tParams = {'alpha': 0.01}\n",
      "\tf1 score = 0.6819248560962846\n",
      "\tauc score = 0.6501507506768398\n",
      "\tprecision score = 0.5725806451612904\n",
      "\trecall score = 0.5220588235294118\n",
      "model = MultinomialNB\n",
      "\t\tParams = {'alpha': 0.1}\n",
      "\tf1 score = 0.6920492241840557\n",
      "\tauc score = 0.6643490031996062\n",
      "\tprecision score = 0.5801526717557252\n",
      "\trecall score = 0.5588235294117647\n",
      "model = MultinomialNB\n",
      "\t\tParams = {'alpha': 0.2}\n",
      "\tf1 score = 0.6789397411283831\n",
      "\tauc score = 0.6507199113955204\n",
      "\tprecision score = 0.5606060606060606\n",
      "\trecall score = 0.5441176470588235\n",
      "model = MultinomialNB\n",
      "\t\tParams = {'alpha': 0.5}\n",
      "\tf1 score = 0.6890953002340563\n",
      "\tauc score = 0.6606725326113709\n",
      "\tprecision score = 0.5769230769230769\n",
      "\trecall score = 0.5514705882352942\n",
      "model = MultinomialNB\n",
      "\t\tParams = {'alpha': 1}\n",
      "\tf1 score = 0.6885572548515615\n",
      "\tauc score = 0.6521812699975388\n",
      "\tprecision score = 0.5982142857142857\n",
      "\trecall score = 0.49264705882352944\n",
      "model = MultinomialNB\n",
      "\t\tParams = {'alpha': 2}\n",
      "\tf1 score = 0.6474891850698836\n",
      "\tauc score = 0.6010952498154073\n",
      "\tprecision score = 0.6027397260273972\n",
      "\trecall score = 0.3235294117647059\n"
     ]
    },
    {
     "name": "stderr",
     "output_type": "stream",
     "text": [
      "/Users/suraj/opt/anaconda3/lib/python3.7/site-packages/sklearn/naive_bayes.py:485: UserWarning: alpha too small will result in numeric errors, setting alpha = 1.0e-10\n",
      "  'setting alpha = %.1e' % _ALPHA_MIN)\n"
     ]
    }
   ],
   "source": [
    "from sklearn.linear_model import Lasso\n",
    "from sklearn.ensemble import RandomForestClassifier\n",
    "from sklearn.naive_bayes import MultinomialNB\n",
    "import re\n",
    "\n",
    "lr_grid = dict(\n",
    "    penalty=['l2'],\n",
    "    solver=['liblinear']\n",
    ")\n",
    "\n",
    "\n",
    "lasso_grid = dict(\n",
    "    # alpha=[9, 10, 11],\n",
    "    alpha= [0.001, 0.01],\n",
    "    max_iter=[100000],\n",
    ")\n",
    "\n",
    "rf_grid = dict(\n",
    "    n_estimators = [10, 50, 100,200],\n",
    "    max_depth = [10, 50, 200],\n",
    "    \n",
    ")\n",
    "\n",
    "\n",
    "nb_grid = dict(\n",
    "    alpha = [0,0.001,0.01,0.1,0.2, 0.5,1,2]\n",
    ")\n",
    "\n",
    "lr_params = list(ParameterGrid(lr_grid))\n",
    "lasso_params = list(ParameterGrid(lasso_grid))\n",
    "rf_params = list(ParameterGrid(rf_grid))\n",
    "nb_params = list(ParameterGrid(nb_grid))\n",
    "# print(ridge_params)\n",
    "\n",
    "models = [\n",
    "    (\"LogisticRegression\", LogisticRegression, lr_params),\n",
    "    (\"Lasso Regression\", Lasso, lasso_params),\n",
    "#     (\"RandomForest\", RandomForestClassifier, rf_params ),\n",
    "    (\"MultinomialNB\", MultinomialNB, nb_params)\n",
    "]\n",
    "\n",
    "print(y_test.values)\n",
    "model_array = []\n",
    "for mdl in models:\n",
    "    model_array.append(get_model_scores(mdl[0], mdl[1], X_train_vec, y_train, X_test, y_test, mdl[2]))\n",
    "\n",
    "\n"
   ]
  },
  {
   "cell_type": "code",
   "execution_count": 14,
   "metadata": {},
   "outputs": [
    {
     "data": {
      "text/plain": [
       "array([[-0.46885475, -0.01585859, -0.07832126, ..., -0.39375208,\n",
       "         0.44285396,  0.26073598]])"
      ]
     },
     "execution_count": 14,
     "metadata": {},
     "output_type": "execute_result"
    }
   ],
   "source": [
    "model_array[0][0].coef_[:100]"
   ]
  },
  {
   "cell_type": "code",
   "execution_count": 15,
   "metadata": {},
   "outputs": [],
   "source": [
    "top10 = np.argsort(model_array[0][0].coef_)[:10]\n",
    "bot10 = np.argsort(model_array[0][0].coef_)[::-1][:10]"
   ]
  },
  {
   "cell_type": "code",
   "execution_count": null,
   "metadata": {},
   "outputs": [],
   "source": [
    "print(np.array(vectorizer.get_feature_names())[top10])\n",
    "print(np.array(vectorizer.get_feature_names())[bot10])"
   ]
  },
  {
   "cell_type": "code",
   "execution_count": null,
   "metadata": {},
   "outputs": [],
   "source": [
    "for i in range(len(model_array)):\n",
    "    for j in range(len(model_array[i])):\n",
    "        print(f\"i = {i}, j = {j}\")\n",
    "        print(len(model_array[i][j].coef_))\n",
    "        top10 = np.argsort(model_array[i][j].coef_[0])[:10]\n",
    "        bot10 = np.argsort(model_array[i][j].coef_[0])[::-1][:10]\n",
    "        print(np.array(vectorizer.get_feature_names())[top10])\n",
    "        print(np.array(vectorizer.get_feature_names())[bot10])\n",
    "        print(\"\\n\\n\")"
   ]
  },
  {
   "cell_type": "code",
   "execution_count": 18,
   "metadata": {},
   "outputs": [],
   "source": []
  },
  {
   "cell_type": "code",
   "execution_count": null,
   "metadata": {},
   "outputs": [],
   "source": []
  },
  {
   "cell_type": "code",
   "execution_count": null,
   "metadata": {},
   "outputs": [],
   "source": []
  }
 ],
 "metadata": {
  "kernelspec": {
   "display_name": "Python 3",
   "language": "python",
   "name": "python3"
  },
  "language_info": {
   "codemirror_mode": {
    "name": "ipython",
    "version": 3
   },
   "file_extension": ".py",
   "mimetype": "text/x-python",
   "name": "python",
   "nbconvert_exporter": "python",
   "pygments_lexer": "ipython3",
   "version": "3.7.4"
  }
 },
 "nbformat": 4,
 "nbformat_minor": 2
}
