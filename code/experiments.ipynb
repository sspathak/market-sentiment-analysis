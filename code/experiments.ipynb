{
 "cells": [
  {
   "cell_type": "code",
   "execution_count": 72,
   "metadata": {},
   "outputs": [],
   "source": [
    "import numpy as np\n",
    "import pandas as pd\n",
    "from sklearn.naive_bayes import GaussianNB\n",
    "from sklearn.linear_model import LogisticRegression\n",
    "import matplotlib.pyplot as plt\n",
    "from datetime import datetime\n",
    "import os\n",
    "from sklearn.feature_extraction.text import CountVectorizer\n",
    "from IPython.display import display\n",
    "from sklearn.model_selection import train_test_split\n",
    "from sklearn.naive_bayes import GaussianNB\n",
    "from sklearn.svm import SVC\n",
    "from sklearn.metrics import f1_score, accuracy_score, roc_auc_score, precision_score, recall_score\n",
    "%matplotlib inline"
   ]
  },
  {
   "cell_type": "code",
   "execution_count": 2,
   "metadata": {},
   "outputs": [],
   "source": [
    "stock_price = pd.read_csv(\"../dataset/stock_price_data/Pfizer_data.csv\")\n",
    "stock_price['Date'] = pd.to_datetime(stock_price['Date'], format = '%Y-%m-%d')\n",
    "# pd.to_datetime(stock_price['Date'], format = '%Y-%m-%d').apply(pd.Timestamp)\n",
    "# stock_price['Date']"
   ]
  },
  {
   "cell_type": "code",
   "execution_count": 3,
   "metadata": {},
   "outputs": [
    {
     "data": {
      "text/html": [
       "<div>\n",
       "<style scoped>\n",
       "    .dataframe tbody tr th:only-of-type {\n",
       "        vertical-align: middle;\n",
       "    }\n",
       "\n",
       "    .dataframe tbody tr th {\n",
       "        vertical-align: top;\n",
       "    }\n",
       "\n",
       "    .dataframe thead th {\n",
       "        text-align: right;\n",
       "    }\n",
       "</style>\n",
       "<table border=\"1\" class=\"dataframe\">\n",
       "  <thead>\n",
       "    <tr style=\"text-align: right;\">\n",
       "      <th></th>\n",
       "      <th>Date</th>\n",
       "      <th>Open</th>\n",
       "      <th>High</th>\n",
       "      <th>Low</th>\n",
       "      <th>Close</th>\n",
       "      <th>Adj Close</th>\n",
       "      <th>Volume</th>\n",
       "    </tr>\n",
       "  </thead>\n",
       "  <tbody>\n",
       "    <tr>\n",
       "      <td>0</td>\n",
       "      <td>2019-10-01</td>\n",
       "      <td>35.930000</td>\n",
       "      <td>36.020000</td>\n",
       "      <td>35.430000</td>\n",
       "      <td>35.430000</td>\n",
       "      <td>34.060383</td>\n",
       "      <td>20885200</td>\n",
       "    </tr>\n",
       "    <tr>\n",
       "      <td>1</td>\n",
       "      <td>2019-10-02</td>\n",
       "      <td>35.259998</td>\n",
       "      <td>35.270000</td>\n",
       "      <td>34.660000</td>\n",
       "      <td>34.700001</td>\n",
       "      <td>33.358604</td>\n",
       "      <td>21307400</td>\n",
       "    </tr>\n",
       "    <tr>\n",
       "      <td>2</td>\n",
       "      <td>2019-10-03</td>\n",
       "      <td>34.709999</td>\n",
       "      <td>35.470001</td>\n",
       "      <td>34.599998</td>\n",
       "      <td>35.450001</td>\n",
       "      <td>34.079609</td>\n",
       "      <td>20945100</td>\n",
       "    </tr>\n",
       "    <tr>\n",
       "      <td>3</td>\n",
       "      <td>2019-10-04</td>\n",
       "      <td>35.490002</td>\n",
       "      <td>35.980000</td>\n",
       "      <td>35.450001</td>\n",
       "      <td>35.930000</td>\n",
       "      <td>34.541054</td>\n",
       "      <td>17139800</td>\n",
       "    </tr>\n",
       "    <tr>\n",
       "      <td>4</td>\n",
       "      <td>2019-10-07</td>\n",
       "      <td>35.820000</td>\n",
       "      <td>36.259998</td>\n",
       "      <td>35.799999</td>\n",
       "      <td>35.830002</td>\n",
       "      <td>34.444920</td>\n",
       "      <td>11156900</td>\n",
       "    </tr>\n",
       "  </tbody>\n",
       "</table>\n",
       "</div>"
      ],
      "text/plain": [
       "        Date       Open       High        Low      Close  Adj Close    Volume\n",
       "0 2019-10-01  35.930000  36.020000  35.430000  35.430000  34.060383  20885200\n",
       "1 2019-10-02  35.259998  35.270000  34.660000  34.700001  33.358604  21307400\n",
       "2 2019-10-03  34.709999  35.470001  34.599998  35.450001  34.079609  20945100\n",
       "3 2019-10-04  35.490002  35.980000  35.450001  35.930000  34.541054  17139800\n",
       "4 2019-10-07  35.820000  36.259998  35.799999  35.830002  34.444920  11156900"
      ]
     },
     "execution_count": 3,
     "metadata": {},
     "output_type": "execute_result"
    }
   ],
   "source": [
    "stock_price.head()"
   ]
  },
  {
   "cell_type": "code",
   "execution_count": 4,
   "metadata": {},
   "outputs": [
    {
     "data": {
      "text/plain": [
       "0   2019-10-01\n",
       "1   2019-10-02\n",
       "2   2019-10-03\n",
       "3   2019-10-04\n",
       "4   2019-10-07\n",
       "Name: Date, dtype: datetime64[ns]"
      ]
     },
     "execution_count": 4,
     "metadata": {},
     "output_type": "execute_result"
    }
   ],
   "source": [
    "pfizer_close = stock_price['Close']\n",
    "n = 7\n",
    "moving_avg = [sum(pfizer_close[i-n:i])/n for i in range(n, len(pfizer_close))]\n",
    "moving_stdev = (pfizer_close[n:] - moving_avg)**2\n",
    "\n",
    "m = 3\n",
    "moving_stdev_smooth = [sum(moving_stdev[i-m:i])/m for i in range(m,len(moving_stdev))]\n",
    "\n",
    "dates = pd.to_datetime(stock_price[\"Date\"], format = '%Y-%m-%d')\n",
    "dates.head()\n"
   ]
  },
  {
   "cell_type": "code",
   "execution_count": 5,
   "metadata": {
    "scrolled": true
   },
   "outputs": [
    {
     "name": "stderr",
     "output_type": "stream",
     "text": [
      "/Users/suraj/opt/anaconda3/lib/python3.7/site-packages/pandas/plotting/_matplotlib/converter.py:103: FutureWarning: Using an implicitly registered datetime converter for a matplotlib plotting method. The converter was registered by pandas on import. Future versions of pandas will require you to explicitly register matplotlib converters.\n",
      "\n",
      "To register the converters:\n",
      "\t>>> from pandas.plotting import register_matplotlib_converters\n",
      "\t>>> register_matplotlib_converters()\n",
      "  warnings.warn(msg, FutureWarning)\n"
     ]
    },
    {
     "data": {
      "image/png": "[encoded data removed]",
      "text/plain": [
       "<Figure size 432x288 with 1 Axes>"
      ]
     },
     "metadata": {
      "needs_background": "light"
     },
     "output_type": "display_data"
    }
   ],
   "source": [
    "plt.plot(dates[n+m:], pfizer_close[n+m:], label=\"Closing Price, C\")\n",
    "plt.plot(dates[n+m:], moving_avg[m:], label=f\"Moving Average ({n}-day), A\")\n",
    "plt.plot(dates[n+m:], moving_stdev[m:], label=\"Moving Standard Deviation, (C - A)^2\")\n",
    "plt.plot(dates[n+m:], moving_stdev_smooth, label=f\"Smooth Standard Deviation ({m}-day)\")\n",
    "plt.title(\"Pfizer stock\")\n",
    "plt.legend()\n",
    "plt.xlabel(\"Day\")\n",
    "plt.ylabel(\"Price\")\n",
    "plt.rcParams[\"figure.figsize\"]=(15,5) # (width, height)\n",
    "plt.show()"
   ]
  },
  {
   "cell_type": "code",
   "execution_count": null,
   "metadata": {},
   "outputs": [],
   "source": [
    "\n"
   ]
  },
  {
   "cell_type": "code",
   "execution_count": 6,
   "metadata": {},
   "outputs": [],
   "source": [
    "def load_text(p):\n",
    "    doc_list = []\n",
    "    for f in os.listdir(p):\n",
    "        if f[0] == '.':\n",
    "            continue\n",
    "        date = pd.Timestamp((f.split(','))[0])\n",
    "        with open(os.path.join(p,f),'r') as doc:\n",
    "            content = (date, doc.read())\n",
    "            doc_list.append(content)\n",
    "    return np.array(doc_list)\n",
    "\n",
    "def fix_weekends(txt_df):\n",
    "#     txt_df['Dates'] = pd.to_datetime(txt_df.Dates)\n",
    "    dts = txt_df['Dates'][:]\n",
    "    for date in range(len(dts)):\n",
    "        if (dts[date].dayofweek - 4) > 0:\n",
    "            dts[date] = dts[date] + (pd.offsets.Day(7 - (dts[date].dayofweek)))\n",
    "    txt_df['Dates'] = dts\n",
    "    \n",
    "def load_volatility(p, volatility_threshold=1):\n",
    "    labels = [(1,dates[i+m+n]) if j > volatility_threshold else (0,dates[i+m+n]) for i,j in enumerate(moving_stdev_smooth)]\n",
    "    return np.array(labels)\n",
    "\n",
    "def load_data(text_path, price_path):\n",
    "    text = load_text(text_path)\n",
    "    text_df = pd.DataFrame({'Dates':pd.to_datetime(text[:,0]),'Text':text[:,1]})\n",
    "    fix_weekends(text_df)\n",
    "    volatility = load_volatility(price_path)\n",
    "    vol_df = pd.DataFrame({'Dates':pd.to_datetime(volatility[:,1]),'Volatility':volatility[:,0]})\n",
    "    return text_df.merge(vol_df, on='Dates', how='left')\n",
    "        \n",
    "    "
   ]
  },
  {
   "cell_type": "code",
   "execution_count": 30,
   "metadata": {},
   "outputs": [
    {
     "data": {
      "text/html": [
       "<div>\n",
       "<style scoped>\n",
       "    .dataframe tbody tr th:only-of-type {\n",
       "        vertical-align: middle;\n",
       "    }\n",
       "\n",
       "    .dataframe tbody tr th {\n",
       "        vertical-align: top;\n",
       "    }\n",
       "\n",
       "    .dataframe thead th {\n",
       "        text-align: right;\n",
       "    }\n",
       "</style>\n",
       "<table border=\"1\" class=\"dataframe\">\n",
       "  <thead>\n",
       "    <tr style=\"text-align: right;\">\n",
       "      <th></th>\n",
       "      <th>Dates</th>\n",
       "      <th>Text</th>\n",
       "      <th>Volatility</th>\n",
       "    </tr>\n",
       "  </thead>\n",
       "  <tbody>\n",
       "    <tr>\n",
       "      <td>0</td>\n",
       "      <td>2019-11-08</td>\n",
       "      <td>Merck KGaA, Pfizer drug fails to meet endpoint...</td>\n",
       "      <td>0</td>\n",
       "    </tr>\n",
       "    <tr>\n",
       "      <td>1</td>\n",
       "      <td>2020-08-26</td>\n",
       "      <td>Walgreens Boots, UnitedHealth share losses con...</td>\n",
       "      <td>0</td>\n",
       "    </tr>\n",
       "    <tr>\n",
       "      <td>2</td>\n",
       "      <td>2020-01-13</td>\n",
       "      <td>Biogen to buy from Pfizer an asset to develop ...</td>\n",
       "      <td>0</td>\n",
       "    </tr>\n",
       "    <tr>\n",
       "      <td>3</td>\n",
       "      <td>2020-08-07</td>\n",
       "      <td>Pfizer to help manufacture Gilead's remdesivir...</td>\n",
       "      <td>0</td>\n",
       "    </tr>\n",
       "    <tr>\n",
       "      <td>4</td>\n",
       "      <td>2019-12-13</td>\n",
       "      <td>Dow's 50-point drop led by losses in shares of...</td>\n",
       "      <td>0</td>\n",
       "    </tr>\n",
       "    <tr>\n",
       "      <td>...</td>\n",
       "      <td>...</td>\n",
       "      <td>...</td>\n",
       "      <td>...</td>\n",
       "    </tr>\n",
       "    <tr>\n",
       "      <td>429</td>\n",
       "      <td>2020-08-12</td>\n",
       "      <td>Moderna Joins Ranks of U.S. Covid-Vaccine Deal...</td>\n",
       "      <td>0</td>\n",
       "    </tr>\n",
       "    <tr>\n",
       "      <td>430</td>\n",
       "      <td>2020-03-03</td>\n",
       "      <td>These are the 10 biggest stock winners Monday ...</td>\n",
       "      <td>1</td>\n",
       "    </tr>\n",
       "    <tr>\n",
       "      <td>431</td>\n",
       "      <td>2020-05-06</td>\n",
       "      <td>Dow's 75-point jump highlighted by gains for s...</td>\n",
       "      <td>0</td>\n",
       "    </tr>\n",
       "    <tr>\n",
       "      <td>432</td>\n",
       "      <td>2020-07-20</td>\n",
       "      <td>Pfizer, BioNTech COVID-19 vaccine candidate in...</td>\n",
       "      <td>1</td>\n",
       "    </tr>\n",
       "    <tr>\n",
       "      <td>433</td>\n",
       "      <td>2020-07-22</td>\n",
       "      <td>Pfizer stock's implied premarket price gain wo...</td>\n",
       "      <td>1</td>\n",
       "    </tr>\n",
       "  </tbody>\n",
       "</table>\n",
       "<p>434 rows × 3 columns</p>\n",
       "</div>"
      ],
      "text/plain": [
       "         Dates                                               Text Volatility\n",
       "0   2019-11-08  Merck KGaA, Pfizer drug fails to meet endpoint...          0\n",
       "1   2020-08-26  Walgreens Boots, UnitedHealth share losses con...          0\n",
       "2   2020-01-13  Biogen to buy from Pfizer an asset to develop ...          0\n",
       "3   2020-08-07  Pfizer to help manufacture Gilead's remdesivir...          0\n",
       "4   2019-12-13  Dow's 50-point drop led by losses in shares of...          0\n",
       "..         ...                                                ...        ...\n",
       "429 2020-08-12  Moderna Joins Ranks of U.S. Covid-Vaccine Deal...          0\n",
       "430 2020-03-03  These are the 10 biggest stock winners Monday ...          1\n",
       "431 2020-05-06  Dow's 75-point jump highlighted by gains for s...          0\n",
       "432 2020-07-20  Pfizer, BioNTech COVID-19 vaccine candidate in...          1\n",
       "433 2020-07-22  Pfizer stock's implied premarket price gain wo...          1\n",
       "\n",
       "[434 rows x 3 columns]"
      ]
     },
     "metadata": {},
     "output_type": "display_data"
    }
   ],
   "source": [
    "\n",
    "pfizer_text_path = '../dataset/marketwatch_articles/Pfizer'\n",
    "text = load_text(pfizer_text_path)\n",
    "\n",
    "pfizer_price_path = '../dataset/stock_price_data/Pfizer_data.csv'\n",
    "data = load_data(pfizer_text_path, pfizer_price_path)\n",
    "\n",
    "display(data)\n",
    "dat = data[data['Volatility'].notna()]\n",
    "X = dat['Text']\n",
    "y = dat['Volatility']\n",
    "y=y.astype('int')"
   ]
  },
  {
   "cell_type": "code",
   "execution_count": 31,
   "metadata": {},
   "outputs": [
    {
     "name": "stdout",
     "output_type": "stream",
     "text": [
      "<class 'numpy.int64'>\n",
      "2019-12-25T00:00:00.000000000\n"
     ]
    }
   ],
   "source": [
    "print(type(y.values[207]))\n",
    "print(data.Dates.values[207])"
   ]
  },
  {
   "cell_type": "code",
   "execution_count": 32,
   "metadata": {},
   "outputs": [],
   "source": [
    "vectorizer = CountVectorizer(token_pattern='\\\\w{2,}')\n",
    "X_train, X_test, y_train, y_test = train_test_split(X, y, test_size=0.33, random_state=42)"
   ]
  },
  {
   "cell_type": "code",
   "execution_count": 33,
   "metadata": {},
   "outputs": [
    {
     "name": "stdout",
     "output_type": "stream",
     "text": [
      "train len = 288, test len = 142\n",
      "[0 1 1 0 1 1 0 0 1 1 0 0 0 0 1 0 1 0 1 0 0 0 1 0 1 0 0 0 0 0 0 0 0 1 0 1 1\n",
      " 0 1 1 1 1 1 0 0 1 1 0 0 0 1 1 0 0 0 0 0 0 0 0 0 0 0 0 0 0 0 0 1 0 1 1 1 0\n",
      " 1 0 0 0 1 1 1 1 1 0 1 1 0 0 0 1 0 0 1 0 0 0 1 0 0 1 0 1 0 0 0 0 0 0 1 1 0\n",
      " 0 0 0 0 0 1 0 0 0 0 0 1 0 1 0 0 0 0 0 0 0 1 1 1 0 1 1 1 1 1 0 1 1 1 0 0 1\n",
      " 0 0 1 0 0 0 0 0 1 0 1 0 0 0 1 0 1 0 0 0 0 0 0 1 1 0 1 1 0 0 0 0 0 0 1 1 1\n",
      " 1 0 1 0 0 1 0 1 0 0 0 1 1 0 1 0 1 1 0 0 1 0 1 1 1 1 0 1 1 1 1 0 1 1 1 0 0\n",
      " 0 0 1 0 0 0 0 1 0 0 0 1 1 1 0 0 0 1 1 1 0 1 0 0 1 0 1 0 0 1 0 0 1 1 1 0 0\n",
      " 0 1 1 1 0 0 0 0 0 0 0 0 0 1 1 0 0 0 1 0 1 1 0 0 0 0 1 0 0]\n"
     ]
    }
   ],
   "source": [
    "print(f\"train len = {len(y_train)}, test len = {len(y_test)}\")\n",
    "print(y_train.values)"
   ]
  },
  {
   "cell_type": "code",
   "execution_count": 51,
   "metadata": {},
   "outputs": [],
   "source": [
    "vectorizer.fit(X_train)\n",
    "X_train_vec = vectorizer.transform(X_train)"
   ]
  },
  {
   "cell_type": "code",
   "execution_count": 75,
   "metadata": {},
   "outputs": [
    {
     "name": "stdout",
     "output_type": "stream",
     "text": [
      "(288, 8497)\n",
      "[1 0 0 1 1 0 0 1 0 0 0 0 1 0 0 0 1 1 0 0 0 0 1 1 0 1 1 0 0 1 0 1 0 0 0 0 1\n",
      " 0 0 1 1 0 0 0 0 0 0 0 0 0 1 0 1 0 0 0 0 1 0 0 1 1 0 0 0 1 0 0 0 1 1 0 0 0\n",
      " 0 0 0 1 1 0 0 1 1 0 0 1 0 0 0 1 0 0 1 0 0 0 1 0 0 0 1 0 1 0 0 1 0 0 0 0 0\n",
      " 0 0 0 1 1 0 0 1 0 0 1 1 1 0 0 1 0 0 1 0 0 0 1 1 0 1 0 1 0 1 1]\n",
      "0.6666666666666666\n",
      "0.7670600177642432\n",
      "0.7430434782608697\n"
     ]
    }
   ],
   "source": [
    "model = LogisticRegression()\n",
    "print(X_train_vec.shape)\n",
    "model.fit(X_train_vec, y_train)\n",
    "\n",
    "y_pred = model.predict(vectorizer.transform(X_test))\n",
    "print((y_pred))\n",
    "print(f1_score(y_test, y_pred, average='binary'))\n",
    "print(f1_score(y_test, y_pred, average='weighted'))\n",
    "print(roc_auc_score(y_test, y_pred))"
   ]
  },
  {
   "cell_type": "code",
   "execution_count": null,
   "metadata": {},
   "outputs": [],
   "source": [
    "\n",
    "#alternative for labeling\n",
    "# djia = pd.read_csv(\"../dataset/stock_price_data/DJIA_data.csv\")\n",
    "# djia_data = djia['Close']\n",
    "# np_cov = np.array([np.cov(pfizer_close[i-n:i], djia_data[i-n:i])[0,1]/n for i in range(n, len(pfizer_close))])\n",
    "# np_cov[:10]\n",
    "# djia = pd.read_csv(\"../dataset/stock_price_data/DJIA_data.csv\")\n",
    "# djia_data = djia['Close']\n",
    "# np_cov = np.array([np.cov(pfizer_close[i-n:i], djia_data[i-n:i])[0,1]/n for i in range(n, len(pfizer_close))])\n",
    "# np_cov[:10]\n",
    "# plt.plot(dates[n+m:], pfizer_close[n+m:], label=\"Pfizer Price\")\n",
    "# plt.plot(dates[n+m:], djia_data[m+n-1:]/1000, label=\"DJIA price\")\n",
    "# plt.plot(dates[n+m:], np_cov[2:-1]/10, label='np_cov')\n",
    "# plt.legend()\n",
    "# plt.show()"
   ]
  }
 ],
 "metadata": {
  "kernelspec": {
   "display_name": "Python 3",
   "language": "python",
   "name": "python3"
  },
  "language_info": {
   "codemirror_mode": {
    "name": "ipython",
    "version": 3
   },
   "file_extension": ".py",
   "mimetype": "text/x-python",
   "name": "python",
   "nbconvert_exporter": "python",
   "pygments_lexer": "ipython3",
   "version": "3.7.4"
  }
 },
 "nbformat": 4,
 "nbformat_minor": 2
}
